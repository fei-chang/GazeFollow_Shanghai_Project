{
 "cells": [
  {
   "cell_type": "markdown",
   "id": "25797f5e",
   "metadata": {},
   "source": [
    "# convert old version to teacher/kid format"
   ]
  },
  {
   "cell_type": "code",
   "execution_count": 2,
   "id": "3d9ad9da",
   "metadata": {},
   "outputs": [],
   "source": [
    "import pandas as pd\n",
    "import os\n",
    "import numpy as np"
   ]
  },
  {
   "cell_type": "code",
   "execution_count": 6,
   "id": "5da509fc",
   "metadata": {},
   "outputs": [],
   "source": [
    "old_pred_dir = r'D:\\ShanghaiASD_project\\gazefollow_pattern_checkup\\pred_stats\\20230803_v0918'\n"
   ]
  },
  {
   "cell_type": "code",
   "execution_count": 7,
   "id": "87be8377",
   "metadata": {},
   "outputs": [
    {
     "data": {
      "text/plain": [
       "['109小鸟', '109瓢虫1号', '109瓢虫2号', '109考拉', '109袋鼠']"
      ]
     },
     "execution_count": 7,
     "metadata": {},
     "output_type": "execute_result"
    }
   ],
   "source": [
    "kid_id = '109'\n",
    "pred_dir = '%s/%s'%(old_pred_dir, kid_id)\n",
    "cams = os.listdir(pred_dir)\n"
   ]
  },
  {
   "cell_type": "code",
   "execution_count": 22,
   "id": "3009f48b",
   "metadata": {},
   "outputs": [],
   "source": [
    "cleaned_gt_dir = r'D:\\ShanghaiASD_project\\gazefollow_pattern_checkup\\ENCU_base_annotations\\cleaned'\n",
    "\n",
    "activity_dir = r'D:\\ShanghaiASD_project\\gazefollow_pattern_checkup\\activity_mapping'\n",
    "a_file = '%s/%s_activity.csv'%(activity_dir, kid_id)\n",
    "a_df = pd.read_csv(a_file)\n",
    "\n",
    "gt_df = pd.read_csv('%s/%s.txt'%(cleaned_gt_dir, kid_id))\n",
    "\n",
    "stats_header = ['camera', 'activity', 'acc', 'recall', 'precision']\n",
    "pd_stats = []\n",
    "\n",
    "\n",
    "for cam in os.listdir(pred_dir):\n",
    "    pred_cam_df = pd.read_excel('%s/%s/activity_summary_kid.xlsx'%(pred_dir, cam))\n",
    "    gt_kid_at_teacher = gt_df[gt_df.SXC=='face'].dropna(subset=['activity'])\n",
    "    for i in range(len(a_df)):\n",
    "        start_f, end_f, act = a_df.iloc[i]\n",
    "        total_frames = range(start_f, end_f)\n",
    "        a_gt = gt_kid_at_teacher[gt_kid_at_teacher.activity==act]\n",
    "        a_pred = pred_cam_df[pred_cam_df.activity==act]\n",
    "        acc_score, recall, precision = obtain_score_per_act(a_pred, a_gt)\n",
    "#         print(\"At activity: %s, Acc: %.2f, Recall: %.2f, Precision: %.2f\"%(act, acc_score*100, recall*100, precision*100))\n",
    "        pd_stats.append([cam, act, acc_score*100, recall*100, precision*100])\n"
   ]
  },
  {
   "cell_type": "code",
   "execution_count": 23,
   "id": "4ff002bf",
   "metadata": {},
   "outputs": [
    {
     "data": {
      "text/html": [
       "<div>\n",
       "<style scoped>\n",
       "    .dataframe tbody tr th:only-of-type {\n",
       "        vertical-align: middle;\n",
       "    }\n",
       "\n",
       "    .dataframe tbody tr th {\n",
       "        vertical-align: top;\n",
       "    }\n",
       "\n",
       "    .dataframe thead th {\n",
       "        text-align: right;\n",
       "    }\n",
       "</style>\n",
       "<table border=\"1\" class=\"dataframe\">\n",
       "  <thead>\n",
       "    <tr style=\"text-align: right;\">\n",
       "      <th></th>\n",
       "      <th>camera</th>\n",
       "      <th>activity</th>\n",
       "      <th>acc</th>\n",
       "      <th>recall</th>\n",
       "      <th>precision</th>\n",
       "    </tr>\n",
       "  </thead>\n",
       "  <tbody>\n",
       "    <tr>\n",
       "      <th>0</th>\n",
       "      <td>109小鸟</td>\n",
       "      <td>Bamboo</td>\n",
       "      <td>74.882471</td>\n",
       "      <td>75.0</td>\n",
       "      <td>5.412371</td>\n",
       "    </tr>\n",
       "    <tr>\n",
       "      <th>1</th>\n",
       "      <td>109小鸟</td>\n",
       "      <td>Puzzle1</td>\n",
       "      <td>59.974384</td>\n",
       "      <td>100.0</td>\n",
       "      <td>0.398406</td>\n",
       "    </tr>\n",
       "    <tr>\n",
       "      <th>2</th>\n",
       "      <td>109小鸟</td>\n",
       "      <td>RJAposterA</td>\n",
       "      <td>100.000000</td>\n",
       "      <td>NaN</td>\n",
       "      <td>NaN</td>\n",
       "    </tr>\n",
       "    <tr>\n",
       "      <th>3</th>\n",
       "      <td>109小鸟</td>\n",
       "      <td>RJAposterB</td>\n",
       "      <td>86.218487</td>\n",
       "      <td>NaN</td>\n",
       "      <td>0.000000</td>\n",
       "    </tr>\n",
       "    <tr>\n",
       "      <th>4</th>\n",
       "      <td>109小鸟</td>\n",
       "      <td>RJAduck</td>\n",
       "      <td>56.680162</td>\n",
       "      <td>NaN</td>\n",
       "      <td>0.000000</td>\n",
       "    </tr>\n",
       "    <tr>\n",
       "      <th>...</th>\n",
       "      <td>...</td>\n",
       "      <td>...</td>\n",
       "      <td>...</td>\n",
       "      <td>...</td>\n",
       "      <td>...</td>\n",
       "    </tr>\n",
       "    <tr>\n",
       "      <th>60</th>\n",
       "      <td>109袋鼠</td>\n",
       "      <td>RJAposterC</td>\n",
       "      <td>25.471698</td>\n",
       "      <td>NaN</td>\n",
       "      <td>0.000000</td>\n",
       "    </tr>\n",
       "    <tr>\n",
       "      <th>61</th>\n",
       "      <td>109袋鼠</td>\n",
       "      <td>RJAposterD</td>\n",
       "      <td>36.551724</td>\n",
       "      <td>NaN</td>\n",
       "      <td>0.000000</td>\n",
       "    </tr>\n",
       "    <tr>\n",
       "      <th>62</th>\n",
       "      <td>109袋鼠</td>\n",
       "      <td>RJAcar</td>\n",
       "      <td>28.801431</td>\n",
       "      <td>NaN</td>\n",
       "      <td>0.000000</td>\n",
       "    </tr>\n",
       "    <tr>\n",
       "      <th>63</th>\n",
       "      <td>109袋鼠</td>\n",
       "      <td>IJAcar</td>\n",
       "      <td>86.380114</td>\n",
       "      <td>NaN</td>\n",
       "      <td>0.000000</td>\n",
       "    </tr>\n",
       "    <tr>\n",
       "      <th>64</th>\n",
       "      <td>109袋鼠</td>\n",
       "      <td>Bubble</td>\n",
       "      <td>29.885961</td>\n",
       "      <td>NaN</td>\n",
       "      <td>0.000000</td>\n",
       "    </tr>\n",
       "  </tbody>\n",
       "</table>\n",
       "<p>65 rows × 5 columns</p>\n",
       "</div>"
      ],
      "text/plain": [
       "   camera    activity         acc  recall  precision\n",
       "0   109小鸟      Bamboo   74.882471    75.0   5.412371\n",
       "1   109小鸟     Puzzle1   59.974384   100.0   0.398406\n",
       "2   109小鸟  RJAposterA  100.000000     NaN        NaN\n",
       "3   109小鸟  RJAposterB   86.218487     NaN   0.000000\n",
       "4   109小鸟     RJAduck   56.680162     NaN   0.000000\n",
       "..    ...         ...         ...     ...        ...\n",
       "60  109袋鼠  RJAposterC   25.471698     NaN   0.000000\n",
       "61  109袋鼠  RJAposterD   36.551724     NaN   0.000000\n",
       "62  109袋鼠      RJAcar   28.801431     NaN   0.000000\n",
       "63  109袋鼠      IJAcar   86.380114     NaN   0.000000\n",
       "64  109袋鼠      Bubble   29.885961     NaN   0.000000\n",
       "\n",
       "[65 rows x 5 columns]"
      ]
     },
     "execution_count": 23,
     "metadata": {},
     "output_type": "execute_result"
    }
   ],
   "source": [
    "pd.DataFrame(pd_stats, columns=stats_header)"
   ]
  },
  {
   "cell_type": "code",
   "execution_count": 24,
   "id": "d64ea08c",
   "metadata": {},
   "outputs": [],
   "source": [
    "def collect_lists(gt_df, pred_df):\n",
    "    gt_ls = []\n",
    "    for i in gt_df.index:\n",
    "        start_f = gt_df.at[i, 'start_frame']\n",
    "        end_f = gt_df.at[i, 'end_frame']\n",
    "        for f in range(start_f, end_f):\n",
    "            gt_ls.append(f)\n",
    "    \n",
    "    pred_ls = []\n",
    "    for j in pred_df.index:\n",
    "        if 'teacher' in pred_df.at[j, 'pattern']:\n",
    "            f = pred_df.at[j, 'frameID']\n",
    "            pred_ls.append(f)\n",
    "    return gt_ls, pred_ls\n",
    "            \n",
    "def obtain_score(a_pred, a_gt, total_frames):\n",
    "    gt_ls, pred_ls = collect_lists(a_gt, a_pred)        \n",
    "    tp_ls = []\n",
    "    fp_ls = []\n",
    "    fn_ls = []\n",
    "    tn_ls = []\n",
    "    for f in total_frames:\n",
    "        if f in pred_ls: # a predicted positive\n",
    "            if f in gt_ls: # true positive\n",
    "                tp_ls.append(f)\n",
    "            else: # false positive\n",
    "                fp_ls.append(f)\n",
    "        else: # a predicited negative\n",
    "            if f in gt_ls: # false negative\n",
    "                fn_ls.append(f)\n",
    "            else: # true negative\n",
    "                tn_ls.append(f)\n",
    "    assert len(tp_ls)+len(fp_ls)+len(fn_ls)+len(tn_ls)==len(total_frames)\n",
    "    acc_score = (len(tp_ls)+len(tn_ls))/len(total_frames)\n",
    "    \n",
    "    if len(gt_ls)==0:\n",
    "        recall = np.nan\n",
    "    else:\n",
    "        recall = len(tp_ls)/(len(tp_ls)+len(fn_ls))\n",
    "    if len(pred_ls)==0:\n",
    "        precision = np.nan\n",
    "    else:\n",
    "        precision = len(tp_ls)/(len(tp_ls)+len(fp_ls))\n",
    "    \n",
    "    return acc_score, recall, precision"
   ]
  },
  {
   "cell_type": "code",
   "execution_count": 16,
   "id": "97dc31dc",
   "metadata": {},
   "outputs": [
    {
     "data": {
      "text/plain": [
       "array(['void', 'at_bamboo', 'at_teacher', 'at_duck', 'at_duck/at_bamboo',\n",
       "       'at_car', 'at_car/at_bamboo'], dtype=object)"
      ]
     },
     "execution_count": 16,
     "metadata": {},
     "output_type": "execute_result"
    }
   ],
   "source": [
    "pred_cam_df.pattern.unique()"
   ]
  },
  {
   "cell_type": "code",
   "execution_count": null,
   "id": "d0ec8e59",
   "metadata": {},
   "outputs": [],
   "source": []
  }
 ],
 "metadata": {
  "kernelspec": {
   "display_name": "Python 3 (ipykernel)",
   "language": "python",
   "name": "python3"
  },
  "language_info": {
   "codemirror_mode": {
    "name": "ipython",
    "version": 3
   },
   "file_extension": ".py",
   "mimetype": "text/x-python",
   "name": "python",
   "nbconvert_exporter": "python",
   "pygments_lexer": "ipython3",
   "version": "3.10.9"
  }
 },
 "nbformat": 4,
 "nbformat_minor": 5
}
